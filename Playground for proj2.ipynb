{
 "cells": [
  {
   "cell_type": "code",
   "execution_count": null,
   "id": "equal-complaint",
   "metadata": {},
   "outputs": [],
   "source": [
    "memory = []"
   ]
  },
  {
   "cell_type": "code",
   "execution_count": 1,
   "id": "private-theta",
   "metadata": {},
   "outputs": [],
   "source": [
    "import numpy as np\n",
    "import torch\n",
    "import gym"
   ]
  },
  {
   "cell_type": "code",
   "execution_count": 2,
   "id": "horizontal-apache",
   "metadata": {},
   "outputs": [],
   "source": [
    "import gym\n",
    "from torch import nn, optim\n",
    "import torch.nn.functional as F\n",
    "import numpy as np\n",
    "import matplotlib.pyplot as plt\n",
    "from copy import deepcopy"
   ]
  },
  {
   "cell_type": "code",
   "execution_count": 3,
   "id": "korean-delta",
   "metadata": {},
   "outputs": [],
   "source": [
    "import random"
   ]
  },
  {
   "cell_type": "code",
   "execution_count": 54,
   "id": "foster-differential",
   "metadata": {},
   "outputs": [],
   "source": [
    "device = torch.device(\"cuda\" if torch.cuda.is_available() else \"cpu\")"
   ]
  },
  {
   "cell_type": "code",
   "execution_count": 50,
   "id": "recreational-difficulty",
   "metadata": {},
   "outputs": [],
   "source": [
    "device = \"cpu\""
   ]
  },
  {
   "cell_type": "code",
   "execution_count": 7,
   "id": "molecular-fluid",
   "metadata": {},
   "outputs": [
    {
     "name": "stdout",
     "output_type": "stream",
     "text": [
      "State shape:  Box(-inf, inf, (8,), float32)\n",
      "Number of Actions:  Discrete(4)\n"
     ]
    }
   ],
   "source": [
    "env = gym.make('LunarLander-v2')\n",
    "env.seed(5)\n",
    "print('State shape: ', env.observation_space)\n",
    "print('Number of Actions: ', env.action_space)"
   ]
  },
  {
   "cell_type": "code",
   "execution_count": 5,
   "id": "grand-recall",
   "metadata": {},
   "outputs": [],
   "source": [
    "memry = []"
   ]
  },
  {
   "cell_type": "code",
   "execution_count": 19,
   "id": "seeing-machine",
   "metadata": {},
   "outputs": [],
   "source": [
    "# state = torch.from_numpy(env.reset()).to(device)\n",
    "action = 2\n",
    "state = env.reset()\n",
    "next_state, reward, done, data = env.step(action)\n",
    "reward = np.array([reward],dtype = float)\n",
    "action = np.array([action],dtype = int)\n",
    "done = np.array([done],dtype = int)\n",
    "# reward = torch.from_numpy(np.array([reward])).to(device)\n",
    "# action = torch.from_numpy(np.array([action])).to(device)\n",
    "# next_state = torch.from_numpy(next_state).to(device)\n",
    "transition = (state,action,reward,next_state,done)\n",
    "transition\n",
    "memry.append(transition)"
   ]
  },
  {
   "cell_type": "code",
   "execution_count": null,
   "id": "intermediate-accident",
   "metadata": {},
   "outputs": [],
   "source": [
    "Z = random.sample(memry, k=2)\n",
    "Z"
   ]
  },
  {
   "cell_type": "code",
   "execution_count": null,
   "id": "three-norway",
   "metadata": {},
   "outputs": [],
   "source": [
    "torch.tensor(np.array(Z,dtype = float))"
   ]
  },
  {
   "cell_type": "code",
   "execution_count": null,
   "id": "waiting-frank",
   "metadata": {},
   "outputs": [],
   "source": [
    "X = [row[4] for row in Z]\n",
    "X"
   ]
  },
  {
   "cell_type": "code",
   "execution_count": null,
   "id": "invisible-screw",
   "metadata": {},
   "outputs": [],
   "source": [
    "X = [row[0] for row in Z]\n",
    "X"
   ]
  },
  {
   "cell_type": "code",
   "execution_count": null,
   "id": "announced-stephen",
   "metadata": {},
   "outputs": [],
   "source": [
    "torch.tensor(np.array(X,dtype = float))"
   ]
  },
  {
   "cell_type": "code",
   "execution_count": null,
   "id": "gentle-million",
   "metadata": {},
   "outputs": [],
   "source": [
    "X[0]+X[1]"
   ]
  },
  {
   "cell_type": "code",
   "execution_count": null,
   "id": "pleased-father",
   "metadata": {},
   "outputs": [],
   "source": [
    "Z = np.array(Z,dtype = object)\n",
    "Z.shape"
   ]
  },
  {
   "cell_type": "code",
   "execution_count": null,
   "id": "respective-projector",
   "metadata": {},
   "outputs": [],
   "source": [
    "Z = Z.T\n",
    "Z.shape"
   ]
  },
  {
   "cell_type": "code",
   "execution_count": null,
   "id": "rising-tyler",
   "metadata": {},
   "outputs": [],
   "source": [
    "Z[0]"
   ]
  },
  {
   "cell_type": "code",
   "execution_count": null,
   "id": "portuguese-suicide",
   "metadata": {},
   "outputs": [],
   "source": [
    "Z[1]"
   ]
  },
  {
   "cell_type": "code",
   "execution_count": null,
   "id": "diverse-waste",
   "metadata": {},
   "outputs": [],
   "source": [
    "Z[2]+Z[3]"
   ]
  },
  {
   "cell_type": "code",
   "execution_count": null,
   "id": "lucky-shield",
   "metadata": {},
   "outputs": [],
   "source": [
    "Z[0] + Z[1]"
   ]
  },
  {
   "cell_type": "code",
   "execution_count": null,
   "id": "transsexual-addiction",
   "metadata": {},
   "outputs": [],
   "source": [
    "Z[2]"
   ]
  },
  {
   "cell_type": "code",
   "execution_count": null,
   "id": "adolescent-faith",
   "metadata": {},
   "outputs": [],
   "source": [
    "torch.as_tensor(Z[2])"
   ]
  },
  {
   "cell_type": "code",
   "execution_count": 20,
   "id": "confident-infection",
   "metadata": {},
   "outputs": [],
   "source": [
    "C = random.sample(memry, k=10)"
   ]
  },
  {
   "cell_type": "code",
   "execution_count": null,
   "id": "prescription-seminar",
   "metadata": {},
   "outputs": [],
   "source": [
    "C"
   ]
  },
  {
   "cell_type": "code",
   "execution_count": 21,
   "id": "italian-employee",
   "metadata": {},
   "outputs": [],
   "source": [
    "C = np.array(C,dtype = object)"
   ]
  },
  {
   "cell_type": "code",
   "execution_count": null,
   "id": "latin-repeat",
   "metadata": {},
   "outputs": [],
   "source": [
    "C"
   ]
  },
  {
   "cell_type": "code",
   "execution_count": 22,
   "id": "sonic-flash",
   "metadata": {},
   "outputs": [],
   "source": [
    "C = C.T"
   ]
  },
  {
   "cell_type": "code",
   "execution_count": null,
   "id": "conventional-motorcycle",
   "metadata": {},
   "outputs": [],
   "source": [
    "C"
   ]
  },
  {
   "cell_type": "code",
   "execution_count": 23,
   "id": "certain-prediction",
   "metadata": {},
   "outputs": [],
   "source": [
    "C = C.tolist()"
   ]
  },
  {
   "cell_type": "code",
   "execution_count": 55,
   "id": "naked-scenario",
   "metadata": {},
   "outputs": [],
   "source": [
    "states = torch.tensor(C[0]).to(device)"
   ]
  },
  {
   "cell_type": "code",
   "execution_count": 84,
   "id": "external-arthritis",
   "metadata": {},
   "outputs": [
    {
     "data": {
      "text/plain": [
       "[array([ 0.00584612,  1.4083513 ,  0.59213126, -0.11418455, -0.00676737,\n",
       "        -0.1341265 ,  0.        ,  0.        ], dtype=float32),\n",
       " array([-0.00407314,  1.4067007 , -0.41257963, -0.18753307,  0.00472654,\n",
       "         0.09345536,  0.        ,  0.        ], dtype=float32),\n",
       " array([-0.00475454,  1.4089692 , -0.48160577, -0.08671539,  0.00551617,\n",
       "         0.10909085,  0.        ,  0.        ], dtype=float32),\n",
       " array([-0.00763311,  1.4082026 , -0.77316105, -0.12081107,  0.0088516 ,\n",
       "         0.1751325 ,  0.        ,  0.        ], dtype=float32),\n",
       " array([ 1.1624336e-03,  1.3995911e+00,  1.1772464e-01, -5.0350881e-01,\n",
       "        -1.3401622e-03, -2.6666407e-02,  0.0000000e+00,  0.0000000e+00],\n",
       "       dtype=float32),\n",
       " array([-0.00511417,  1.4096055 , -0.51803106, -0.05844457,  0.00593287,\n",
       "         0.11734165,  0.        ,  0.        ], dtype=float32),\n",
       " array([ 0.00542307,  1.4186835 ,  0.5492875 ,  0.34503332, -0.00627724,\n",
       "        -0.12442194,  0.        ,  0.        ], dtype=float32),\n",
       " array([-0.00291395,  1.4045026 , -0.29515925, -0.28522748,  0.00338324,\n",
       "         0.06685782,  0.        ,  0.        ], dtype=float32),\n",
       " array([-0.00326357,  1.407644  , -0.33057195, -0.14560992,  0.00378837,\n",
       "         0.07487941,  0.        ,  0.        ], dtype=float32),\n",
       " array([ 0.00285225,  1.4037354 ,  0.28886765, -0.31932127, -0.00329807,\n",
       "        -0.06543276,  0.        ,  0.        ], dtype=float32)]"
      ]
     },
     "execution_count": 84,
     "metadata": {},
     "output_type": "execute_result"
    }
   ],
   "source": [
    "C[0]"
   ]
  },
  {
   "cell_type": "code",
   "execution_count": 31,
   "id": "dimensional-collar",
   "metadata": {},
   "outputs": [
    {
     "name": "stdout",
     "output_type": "stream",
     "text": [
      "State shape:  Box(-inf, inf, (8,), float32)\n",
      "Number of Actions:  Discrete(4)\n"
     ]
    }
   ],
   "source": [
    "env = gym.make('LunarLander-v2')\n",
    "env.seed(5)\n",
    "print('State shape: ', env.observation_space)\n",
    "print('Number of Actions: ', env.action_space)"
   ]
  },
  {
   "cell_type": "code",
   "execution_count": 46,
   "id": "basic-specialist",
   "metadata": {},
   "outputs": [],
   "source": [
    "class Network(nn.Module):\n",
    "    def __init__(self):\n",
    "        super().__init__()\n",
    "        self.seed = torch.manual_seed(5)\n",
    "        self.fc1 = nn.Linear(8, 128)\n",
    "        self.fc2 = nn.Linear(128, 64)\n",
    "        self.fc3 = nn.Linear(64, 4)\n",
    "    \n",
    "    def forward(self, state):\n",
    "        h = F.relu(self.fc1(state))\n",
    "        h = F.relu(self.fc2(h))\n",
    "        y = self.fc3(h)\n",
    "        return y"
   ]
  },
  {
   "cell_type": "code",
   "execution_count": 56,
   "id": "colored-genre",
   "metadata": {},
   "outputs": [
    {
     "data": {
      "text/plain": [
       "tensor([[-0.0643, -0.0962,  0.0494,  0.0027],\n",
       "        [-0.0687, -0.1367,  0.0091, -0.0330],\n",
       "        [-0.0679, -0.1333,  0.0033, -0.0301],\n",
       "        [-0.0660, -0.1424, -0.0113, -0.0464],\n",
       "        [-0.0772, -0.1363,  0.0390, -0.0201],\n",
       "        [-0.0676, -0.1330,  0.0008, -0.0309],\n",
       "        [-0.0648, -0.0906,  0.0510,  0.0149],\n",
       "        [-0.0698, -0.1395,  0.0175, -0.0326],\n",
       "        [-0.0678, -0.1337,  0.0116, -0.0261],\n",
       "        [-0.0684, -0.1166,  0.0376, -0.0106]], device='cuda:0',\n",
       "       grad_fn=<AddmmBackward>)"
      ]
     },
     "execution_count": 56,
     "metadata": {},
     "output_type": "execute_result"
    }
   ],
   "source": [
    "m = Network()\n",
    "m.cuda()\n",
    "\n",
    "c = m(states)\n",
    "\n",
    "c\n"
   ]
  },
  {
   "cell_type": "code",
   "execution_count": 132,
   "id": "stainless-prison",
   "metadata": {},
   "outputs": [
    {
     "data": {
      "text/plain": [
       "OrderedDict([('fc1.weight',\n",
       "              tensor([[ 0.2335, -0.2644,  0.2881,  ..., -0.2711, -0.2373,  0.1682],\n",
       "                      [-0.3300,  0.3494,  0.0753,  ...,  0.1127,  0.1520,  0.0561],\n",
       "                      [ 0.3401,  0.1062, -0.3135,  ..., -0.1687, -0.3248,  0.2016],\n",
       "                      ...,\n",
       "                      [ 0.0593, -0.1358, -0.1670,  ..., -0.2488,  0.0943, -0.2922],\n",
       "                      [-0.0329, -0.1998, -0.1133,  ..., -0.0580,  0.3441, -0.3245],\n",
       "                      [-0.2374, -0.0910,  0.0216,  ...,  0.1318,  0.1261, -0.1168]],\n",
       "                     device='cuda:0')),\n",
       "             ('fc1.bias',\n",
       "              tensor([ 0.2725, -0.0297,  0.0205,  0.0226,  0.0591,  0.0419,  0.0767, -0.2454,\n",
       "                      -0.1971,  0.1539,  0.0453, -0.2112, -0.1418, -0.3296, -0.1335, -0.0301,\n",
       "                       0.0770, -0.1620, -0.0279, -0.0841, -0.2585, -0.0114, -0.1138, -0.2772,\n",
       "                      -0.2598,  0.2007,  0.2991, -0.2293, -0.0895, -0.0738,  0.1431, -0.1166,\n",
       "                      -0.0214, -0.1031,  0.1925, -0.1542,  0.0658,  0.0012, -0.0100,  0.0761,\n",
       "                      -0.1243, -0.1147, -0.0791, -0.1177,  0.2192, -0.2151, -0.2765, -0.1533,\n",
       "                      -0.2258,  0.0309,  0.0258, -0.0237, -0.0675, -0.0738, -0.2168, -0.2563,\n",
       "                       0.0600, -0.1316,  0.0820, -0.1630, -0.0280,  0.0806, -0.0128,  0.2227,\n",
       "                       0.1591,  0.1327, -0.0103,  0.0674,  0.2895, -0.0662, -0.1124,  0.2935,\n",
       "                       0.1864, -0.1165,  0.2454,  0.3164, -0.0038, -0.1819, -0.1032, -0.2330,\n",
       "                       0.3048,  0.2159, -0.1544, -0.0956, -0.0497,  0.0014, -0.3375, -0.3500,\n",
       "                      -0.1967, -0.1316, -0.0809, -0.2801,  0.1682, -0.1248, -0.1618, -0.0635,\n",
       "                       0.1732,  0.0619, -0.2355,  0.3516, -0.2920, -0.3325, -0.0345, -0.1887,\n",
       "                       0.1333,  0.0292, -0.3203,  0.0036,  0.0266, -0.1481,  0.0880,  0.1590,\n",
       "                       0.0422,  0.2945, -0.1914, -0.0207, -0.2876, -0.2745,  0.2571,  0.3487,\n",
       "                      -0.0048,  0.1806, -0.0513, -0.2975,  0.1759, -0.1798, -0.0911,  0.2638],\n",
       "                     device='cuda:0')),\n",
       "             ('fc2.weight',\n",
       "              tensor([[ 0.0506, -0.0139, -0.0446,  ...,  0.0355, -0.0256,  0.0635],\n",
       "                      [-0.0513,  0.0458, -0.0240,  ...,  0.0412,  0.0861, -0.0105],\n",
       "                      [-0.0059, -0.0771, -0.0203,  ..., -0.0489, -0.0012, -0.0781],\n",
       "                      ...,\n",
       "                      [ 0.0539,  0.0467,  0.0085,  ..., -0.0431, -0.0786, -0.0485],\n",
       "                      [ 0.0279,  0.0428, -0.0612,  ...,  0.0237,  0.0783, -0.0156],\n",
       "                      [ 0.0538,  0.0166, -0.0582,  ...,  0.0518, -0.0821, -0.0399]],\n",
       "                     device='cuda:0')),\n",
       "             ('fc2.bias',\n",
       "              tensor([ 0.0735,  0.0739, -0.0015,  0.0765, -0.0019, -0.0156,  0.0400, -0.0555,\n",
       "                      -0.0831, -0.0275, -0.0154, -0.0395, -0.0031,  0.0462,  0.0290, -0.0647,\n",
       "                       0.0591,  0.0288,  0.0020, -0.0158, -0.0611,  0.0290, -0.0302, -0.0583,\n",
       "                      -0.0355,  0.0160, -0.0251,  0.0658, -0.0577,  0.0065,  0.0602, -0.0638,\n",
       "                      -0.0419, -0.0220, -0.0299, -0.0502,  0.0682, -0.0536,  0.0158, -0.0847,\n",
       "                       0.0074, -0.0053, -0.0557,  0.0229,  0.0380,  0.0012,  0.0803,  0.0421,\n",
       "                       0.0734,  0.0723, -0.0165, -0.0793, -0.0138,  0.0139,  0.0736,  0.0827,\n",
       "                       0.0775,  0.0155,  0.0679,  0.0750,  0.0396,  0.0859, -0.0182,  0.0211],\n",
       "                     device='cuda:0')),\n",
       "             ('fc3.weight',\n",
       "              tensor([[-0.0354, -0.0025, -0.1229,  0.0105, -0.0886, -0.0145,  0.0984, -0.0646,\n",
       "                        0.0768,  0.0292, -0.0945,  0.0387,  0.0753, -0.0437, -0.0613, -0.1019,\n",
       "                       -0.0853,  0.0452, -0.1033, -0.1084,  0.0961, -0.0937,  0.0242, -0.0499,\n",
       "                        0.0565, -0.1093, -0.0624, -0.1166,  0.0432,  0.0352, -0.0880, -0.0194,\n",
       "                       -0.0483, -0.0861, -0.1119,  0.0258,  0.0018, -0.0358,  0.0119, -0.0695,\n",
       "                        0.0883, -0.0131, -0.1166,  0.0211, -0.0892,  0.0192, -0.0234, -0.0176,\n",
       "                       -0.0581, -0.0050,  0.0728, -0.1208, -0.0294,  0.0671, -0.0500, -0.0530,\n",
       "                       -0.0843,  0.0374, -0.0632,  0.0592,  0.0659,  0.1080,  0.0282, -0.0596],\n",
       "                      [ 0.0381,  0.0859, -0.0508, -0.0269,  0.0888, -0.0369, -0.0545, -0.1104,\n",
       "                       -0.1026,  0.1042,  0.0539, -0.0029,  0.0075,  0.0135,  0.0303, -0.0571,\n",
       "                        0.1070, -0.0076, -0.0344, -0.0985, -0.0238,  0.1124, -0.1239,  0.1053,\n",
       "                       -0.1112, -0.0924, -0.0694,  0.0034,  0.0560, -0.0372, -0.0105, -0.0934,\n",
       "                        0.0141, -0.0483,  0.1140, -0.0411,  0.0050, -0.0991, -0.0708, -0.0844,\n",
       "                       -0.0397, -0.0267,  0.0075, -0.0866, -0.0050, -0.0319, -0.0282, -0.1133,\n",
       "                       -0.0830, -0.0508,  0.0879, -0.0767, -0.0216, -0.0167, -0.1221, -0.0539,\n",
       "                       -0.0258,  0.0132, -0.1210, -0.0579,  0.1205,  0.1010,  0.0439, -0.0618],\n",
       "                      [ 0.1122, -0.0260,  0.1044,  0.0372, -0.0493, -0.0073, -0.0012,  0.0748,\n",
       "                        0.0277,  0.0097, -0.0926,  0.1250, -0.0480, -0.0607, -0.0590,  0.0362,\n",
       "                       -0.0591, -0.0877,  0.0808, -0.0336,  0.0962,  0.0833, -0.0131, -0.0590,\n",
       "                        0.0364, -0.0830, -0.0918,  0.0176, -0.1007, -0.0228, -0.0471,  0.0964,\n",
       "                        0.0638,  0.0782, -0.0234,  0.1067, -0.1200, -0.1097, -0.1119,  0.0583,\n",
       "                        0.0910, -0.0960,  0.0299, -0.0005, -0.0252,  0.0322, -0.0773, -0.0117,\n",
       "                       -0.0445, -0.1235, -0.0344,  0.0989, -0.1112, -0.0185, -0.0857,  0.0742,\n",
       "                        0.0668,  0.1248,  0.0569,  0.1087, -0.0501,  0.0110, -0.0493,  0.0916],\n",
       "                      [ 0.0570, -0.0087, -0.0538,  0.1064,  0.1059,  0.1250, -0.0165, -0.0722,\n",
       "                       -0.0974, -0.0415, -0.1217,  0.0366, -0.0457, -0.0858, -0.1161, -0.0345,\n",
       "                        0.0122,  0.0106, -0.0910, -0.0768,  0.0507, -0.0499, -0.0233,  0.0938,\n",
       "                       -0.0861, -0.0374,  0.0734,  0.0619, -0.0786, -0.0935,  0.1038,  0.0799,\n",
       "                       -0.0036, -0.0936,  0.0625, -0.0548,  0.0309,  0.0375, -0.0976, -0.0686,\n",
       "                       -0.0221,  0.0951,  0.0613, -0.1174, -0.0454, -0.0028,  0.0959, -0.1022,\n",
       "                        0.1102,  0.0282,  0.0859,  0.0011, -0.0565, -0.0534, -0.0730, -0.0779,\n",
       "                        0.0283, -0.0748,  0.0384, -0.0878, -0.0014, -0.0072,  0.0737,  0.1094]],\n",
       "                     device='cuda:0')),\n",
       "             ('fc3.bias',\n",
       "              tensor([ 0.0208, -0.0366,  0.1099, -0.0400], device='cuda:0'))])"
      ]
     },
     "execution_count": 132,
     "metadata": {},
     "output_type": "execute_result"
    }
   ],
   "source": [
    "m.state_dict()"
   ]
  },
  {
   "cell_type": "code",
   "execution_count": 131,
   "id": "civic-modern",
   "metadata": {},
   "outputs": [
    {
     "ename": "TypeError",
     "evalue": "'method' object is not iterable",
     "output_type": "error",
     "traceback": [
      "\u001b[1;31m---------------------------------------------------------------------------\u001b[0m",
      "\u001b[1;31mTypeError\u001b[0m                                 Traceback (most recent call last)",
      "\u001b[1;32m<ipython-input-131-0a48aedf517f>\u001b[0m in \u001b[0;36m<module>\u001b[1;34m\u001b[0m\n\u001b[1;32m----> 1\u001b[1;33m \u001b[1;32mfor\u001b[0m \u001b[0mi\u001b[0m\u001b[1;33m,\u001b[0m\u001b[0mj\u001b[0m \u001b[1;32min\u001b[0m \u001b[0mzip\u001b[0m\u001b[1;33m(\u001b[0m\u001b[0mm\u001b[0m\u001b[1;33m.\u001b[0m\u001b[0mparameters\u001b[0m\u001b[1;33m(\u001b[0m\u001b[1;33m)\u001b[0m\u001b[1;33m,\u001b[0m\u001b[0mm\u001b[0m\u001b[1;33m.\u001b[0m\u001b[0mparameters\u001b[0m\u001b[1;33m)\u001b[0m\u001b[1;33m:\u001b[0m\u001b[1;33m\u001b[0m\u001b[1;33m\u001b[0m\u001b[0m\n\u001b[0m\u001b[0;32m      2\u001b[0m     \u001b[0mprint\u001b[0m\u001b[1;33m(\u001b[0m\u001b[0mi\u001b[0m\u001b[1;33m.\u001b[0m\u001b[0mdata\u001b[0m\u001b[1;33m)\u001b[0m\u001b[1;33m\u001b[0m\u001b[1;33m\u001b[0m\u001b[0m\n",
      "\u001b[1;31mTypeError\u001b[0m: 'method' object is not iterable"
     ]
    }
   ],
   "source": [
    "for i,j in zip(m.parameters()):\n",
    "    print(i.data)"
   ]
  },
  {
   "cell_type": "markdown",
   "id": "demonstrated-cargo",
   "metadata": {},
   "source": [
    "Note : Tensor for argument #2 'mat1' is on CPU, but expected it to be on GPU (while checking arguments for addmm) ( This error comes up if states is in cpu mode) "
   ]
  },
  {
   "cell_type": "code",
   "execution_count": 80,
   "id": "stuffed-sense",
   "metadata": {},
   "outputs": [],
   "source": [
    "Qmax = c.detach()"
   ]
  },
  {
   "cell_type": "code",
   "execution_count": 100,
   "id": "white-borough",
   "metadata": {},
   "outputs": [
    {
     "data": {
      "text/plain": [
       "tensor([[ 0.0494],\n",
       "        [ 0.0091],\n",
       "        [ 0.0033],\n",
       "        [-0.0113],\n",
       "        [ 0.0390],\n",
       "        [ 0.0008],\n",
       "        [ 0.0510],\n",
       "        [ 0.0175],\n",
       "        [ 0.0116],\n",
       "        [ 0.0376]], device='cuda:0')"
      ]
     },
     "execution_count": 100,
     "metadata": {},
     "output_type": "execute_result"
    }
   ],
   "source": [
    "jk = Qmax.max(1)[0].unsqueeze(1)\n",
    "jk"
   ]
  },
  {
   "cell_type": "code",
   "execution_count": 92,
   "id": "featured-tragedy",
   "metadata": {},
   "outputs": [
    {
     "data": {
      "text/plain": [
       "array([[-0.68292068],\n",
       "       [ 0.54032564],\n",
       "       [-1.4585829 ],\n",
       "       [-0.01305273],\n",
       "       [ 1.38880443],\n",
       "       [-1.17071132],\n",
       "       [-2.35570871],\n",
       "       [ 0.47246154],\n",
       "       [ 2.22941799],\n",
       "       [ 2.27439815]])"
      ]
     },
     "execution_count": 92,
     "metadata": {},
     "output_type": "execute_result"
    }
   ],
   "source": [
    "np.array(C[2])"
   ]
  },
  {
   "cell_type": "code",
   "execution_count": 96,
   "id": "progressive-comparative",
   "metadata": {},
   "outputs": [],
   "source": [
    "c1 = 0*jk"
   ]
  },
  {
   "cell_type": "code",
   "execution_count": 117,
   "id": "stopped-uniform",
   "metadata": {},
   "outputs": [],
   "source": [
    "c4 = torch.tensor(C[4]).to(device)\n",
    "c3 = torch.tensor(C[2],dtype = torch.float).to(device)"
   ]
  },
  {
   "cell_type": "code",
   "execution_count": 118,
   "id": "permanent-winter",
   "metadata": {},
   "outputs": [
    {
     "data": {
      "text/plain": [
       "tensor([[-0.6829],\n",
       "        [ 0.5403],\n",
       "        [-1.4586],\n",
       "        [-0.0131],\n",
       "        [ 1.3888],\n",
       "        [-1.1707],\n",
       "        [-2.3557],\n",
       "        [ 0.4725],\n",
       "        [ 2.2294],\n",
       "        [ 2.2744]], device='cuda:0')"
      ]
     },
     "execution_count": 118,
     "metadata": {},
     "output_type": "execute_result"
    }
   ],
   "source": [
    "c3"
   ]
  },
  {
   "cell_type": "code",
   "execution_count": 116,
   "id": "liberal-copyright",
   "metadata": {},
   "outputs": [
    {
     "ename": "RuntimeError",
     "evalue": "expected scalar type float but found double",
     "output_type": "error",
     "traceback": [
      "\u001b[1;31m---------------------------------------------------------------------------\u001b[0m",
      "\u001b[1;31mRuntimeError\u001b[0m                              Traceback (most recent call last)",
      "\u001b[1;32m<ipython-input-116-015c58f719d0>\u001b[0m in \u001b[0;36m<module>\u001b[1;34m\u001b[0m\n\u001b[1;32m----> 1\u001b[1;33m \u001b[0mtorch\u001b[0m\u001b[1;33m.\u001b[0m\u001b[0mwhere\u001b[0m\u001b[1;33m(\u001b[0m\u001b[0mc4\u001b[0m\u001b[1;33m>\u001b[0m\u001b[1;36m0\u001b[0m\u001b[1;33m,\u001b[0m\u001b[0mc1\u001b[0m\u001b[1;33m,\u001b[0m\u001b[0mc3\u001b[0m\u001b[1;33m)\u001b[0m\u001b[1;33m\u001b[0m\u001b[1;33m\u001b[0m\u001b[0m\n\u001b[0m",
      "\u001b[1;31mRuntimeError\u001b[0m: expected scalar type float but found double"
     ]
    }
   ],
   "source": [
    "torch.where(c4>0,c1,c3)"
   ]
  },
  {
   "cell_type": "code",
   "execution_count": 124,
   "id": "underlying-player",
   "metadata": {},
   "outputs": [],
   "source": [
    "a = (\"John\", \"Charles\", \"Mike\")\n",
    "b = (\"Jenny\", \"Christy\", \"Monica\")\n",
    "\n",
    "x = zip(a, b)"
   ]
  },
  {
   "cell_type": "code",
   "execution_count": 125,
   "id": "documentary-repeat",
   "metadata": {},
   "outputs": [
    {
     "name": "stdout",
     "output_type": "stream",
     "text": [
      "John\n",
      "Charles\n",
      "Mike\n"
     ]
    }
   ],
   "source": [
    "for i,j in x:\n",
    "    print(i)"
   ]
  },
  {
   "cell_type": "code",
   "execution_count": 19,
   "id": "binding-intelligence",
   "metadata": {},
   "outputs": [
    {
     "data": {
      "text/plain": [
       "3"
      ]
     },
     "execution_count": 19,
     "metadata": {},
     "output_type": "execute_result"
    }
   ],
   "source": [
    "random.choice(np.arange(4))"
   ]
  },
  {
   "cell_type": "code",
   "execution_count": 20,
   "id": "express-basement",
   "metadata": {},
   "outputs": [
    {
     "data": {
      "text/plain": [
       "3"
      ]
     },
     "execution_count": 20,
     "metadata": {},
     "output_type": "execute_result"
    }
   ],
   "source": [
    "np.random.randint(0,4)"
   ]
  },
  {
   "cell_type": "code",
   "execution_count": 23,
   "id": "prime-plumbing",
   "metadata": {},
   "outputs": [
    {
     "data": {
      "text/plain": [
       "0.0005"
      ]
     },
     "execution_count": 23,
     "metadata": {},
     "output_type": "execute_result"
    }
   ],
   "source": [
    "float(5e-4)\n"
   ]
  },
  {
   "cell_type": "code",
   "execution_count": null,
   "id": "favorite-estimate",
   "metadata": {},
   "outputs": [],
   "source": []
  }
 ],
 "metadata": {
  "kernelspec": {
   "display_name": "Python 3",
   "language": "python",
   "name": "python3"
  },
  "language_info": {
   "codemirror_mode": {
    "name": "ipython",
    "version": 3
   },
   "file_extension": ".py",
   "mimetype": "text/x-python",
   "name": "python",
   "nbconvert_exporter": "python",
   "pygments_lexer": "ipython3",
   "version": "3.8.8"
  }
 },
 "nbformat": 4,
 "nbformat_minor": 5
}
